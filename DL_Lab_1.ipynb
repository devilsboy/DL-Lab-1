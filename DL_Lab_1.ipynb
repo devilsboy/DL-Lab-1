{
  "nbformat": 4,
  "nbformat_minor": 0,
  "metadata": {
    "colab": {
      "name": "DL-Lab-1",
      "provenance": [],
      "collapsed_sections": []
    },
    "kernelspec": {
      "name": "python3",
      "display_name": "Python 3"
    }
  },
  "cells": [
    {
      "cell_type": "code",
      "metadata": {
        "id": "a_l6S8ONAF_N",
        "colab_type": "code",
        "colab": {}
      },
      "source": [
        "import numpy as np\n",
        "a=np.array([[1,2,3,4],[5,6,7,8],[9,10,11,12],[13,14,15,16]])\n",
        "b=np.array([[21,22,23,24],[25,26,27,28],[29,30,31,32],[33,34,35,36]])"
      ],
      "execution_count": 28,
      "outputs": []
    },
    {
      "cell_type": "markdown",
      "metadata": {
        "id": "rVbHHYOYFSj-",
        "colab_type": "text"
      },
      "source": [
        "**DIMENSIONS**"
      ]
    },
    {
      "cell_type": "code",
      "metadata": {
        "id": "pTq0T-kgB8hQ",
        "colab_type": "code",
        "colab": {
          "base_uri": "https://localhost:8080/",
          "height": 136
        },
        "outputId": "53781cac-48cc-4f7a-95d6-08d412dec34d"
      },
      "source": [
        "print(\"Dimensions of A: \",a.ndim)\n",
        "print(\"Size of A: \",a.size)\n",
        "print(\"Shape of A: \",a.shape)\n",
        "a"
      ],
      "execution_count": 29,
      "outputs": [
        {
          "output_type": "stream",
          "text": [
            "Dimensions of A:  2\n",
            "Size of A:  16\n",
            "Shape of A:  (4, 4)\n"
          ],
          "name": "stdout"
        },
        {
          "output_type": "execute_result",
          "data": {
            "text/plain": [
              "array([[ 1,  2,  3,  4],\n",
              "       [ 5,  6,  7,  8],\n",
              "       [ 9, 10, 11, 12],\n",
              "       [13, 14, 15, 16]])"
            ]
          },
          "metadata": {
            "tags": []
          },
          "execution_count": 29
        }
      ]
    },
    {
      "cell_type": "markdown",
      "metadata": {
        "id": "a4a6AnmMFLev",
        "colab_type": "text"
      },
      "source": [
        "**ADDITION**"
      ]
    },
    {
      "cell_type": "code",
      "metadata": {
        "id": "lUEKVJ_LCwU6",
        "colab_type": "code",
        "colab": {
          "base_uri": "https://localhost:8080/",
          "height": 102
        },
        "outputId": "e64bd715-c2fe-4e27-edc2-f28c8d06e135"
      },
      "source": [
        "print(\"Addition of A & B \")\n",
        "print(a+b)"
      ],
      "execution_count": 30,
      "outputs": [
        {
          "output_type": "stream",
          "text": [
            "Addition of A & B \n",
            "[[22 24 26 28]\n",
            " [30 32 34 36]\n",
            " [38 40 42 44]\n",
            " [46 48 50 52]]\n"
          ],
          "name": "stdout"
        }
      ]
    },
    {
      "cell_type": "markdown",
      "metadata": {
        "id": "KRzRhal6Fh7L",
        "colab_type": "text"
      },
      "source": [
        "**TRANSPOSE**"
      ]
    },
    {
      "cell_type": "code",
      "metadata": {
        "id": "HDIAeWG8E4Tl",
        "colab_type": "code",
        "colab": {
          "base_uri": "https://localhost:8080/",
          "height": 187
        },
        "outputId": "ef45e114-5321-4afc-ca59-0240ea443cbc"
      },
      "source": [
        "print(\"Transpose of A: \\n\",np.transpose(a))\n",
        "print(\"Transpose of B: \\n\",np.transpose(b))"
      ],
      "execution_count": 31,
      "outputs": [
        {
          "output_type": "stream",
          "text": [
            "Transpose of A: \n",
            " [[ 1  5  9 13]\n",
            " [ 2  6 10 14]\n",
            " [ 3  7 11 15]\n",
            " [ 4  8 12 16]]\n",
            "Transpose of B: \n",
            " [[21 25 29 33]\n",
            " [22 26 30 34]\n",
            " [23 27 31 35]\n",
            " [24 28 32 36]]\n"
          ],
          "name": "stdout"
        }
      ]
    },
    {
      "cell_type": "markdown",
      "metadata": {
        "id": "QkzTI6LkKng1",
        "colab_type": "text"
      },
      "source": [
        "**DOT PRODUCT**"
      ]
    },
    {
      "cell_type": "code",
      "metadata": {
        "id": "8obIU7QPGCrj",
        "colab_type": "code",
        "colab": {
          "base_uri": "https://localhost:8080/",
          "height": 85
        },
        "outputId": "b91d896b-3712-4a42-c08d-633685af9968"
      },
      "source": [
        "print(a.dot(b))"
      ],
      "execution_count": 32,
      "outputs": [
        {
          "output_type": "stream",
          "text": [
            "[[ 290  300  310  320]\n",
            " [ 722  748  774  800]\n",
            " [1154 1196 1238 1280]\n",
            " [1586 1644 1702 1760]]\n"
          ],
          "name": "stdout"
        }
      ]
    },
    {
      "cell_type": "markdown",
      "metadata": {
        "id": "Ys42DTNkK4Ro",
        "colab_type": "text"
      },
      "source": [
        "**ELEMENT WISE MULTIPLICATION**"
      ]
    },
    {
      "cell_type": "code",
      "metadata": {
        "id": "NsoADFFqJ_CD",
        "colab_type": "code",
        "colab": {
          "base_uri": "https://localhost:8080/",
          "height": 85
        },
        "outputId": "267adb81-e9cc-4c03-98e9-3ca87eabb65f"
      },
      "source": [
        "print(a*b)"
      ],
      "execution_count": 33,
      "outputs": [
        {
          "output_type": "stream",
          "text": [
            "[[ 21  44  69  96]\n",
            " [125 156 189 224]\n",
            " [261 300 341 384]\n",
            " [429 476 525 576]]\n"
          ],
          "name": "stdout"
        }
      ]
    },
    {
      "cell_type": "markdown",
      "metadata": {
        "id": "4QGVh_H4LY8F",
        "colab_type": "text"
      },
      "source": [
        "**ACCESING ELEMENTS**"
      ]
    },
    {
      "cell_type": "code",
      "metadata": {
        "id": "DgmAQq7OLDgD",
        "colab_type": "code",
        "colab": {
          "base_uri": "https://localhost:8080/",
          "height": 68
        },
        "outputId": "ca6456cc-7a0e-4631-e9f3-3c7ec3400e71"
      },
      "source": [
        "print(\"Element\",a[3][2])\n",
        "print(\"Row\",a[2])\n",
        "print(\"Column\",a[:,2])  "
      ],
      "execution_count": 39,
      "outputs": [
        {
          "output_type": "stream",
          "text": [
            "Element 15\n",
            "Row [ 9 10 11 12]\n",
            "Column [ 3  7 11 15]\n"
          ],
          "name": "stdout"
        }
      ]
    },
    {
      "cell_type": "markdown",
      "metadata": {
        "id": "G9xxKlU3NcYI",
        "colab_type": "text"
      },
      "source": [
        "**SLICE & REVERSE**"
      ]
    },
    {
      "cell_type": "code",
      "metadata": {
        "id": "I04UnESiLV7a",
        "colab_type": "code",
        "colab": {
          "base_uri": "https://localhost:8080/",
          "height": 153
        },
        "outputId": "9c8ec1aa-0dcf-4ef9-ba88-00cddb23e7c5"
      },
      "source": [
        "print(\"Slice: \\n\",a[slice(0,3,2)])\n",
        "print(\"Reverse: \\n\",np.flipud(a))"
      ],
      "execution_count": 47,
      "outputs": [
        {
          "output_type": "stream",
          "text": [
            "Slice: \n",
            " [[ 1  2  3  4]\n",
            " [ 9 10 11 12]]\n",
            "Reverse: \n",
            " [[13 14 15 16]\n",
            " [ 9 10 11 12]\n",
            " [ 5  6  7  8]\n",
            " [ 1  2  3  4]]\n"
          ],
          "name": "stdout"
        }
      ]
    },
    {
      "cell_type": "markdown",
      "metadata": {
        "id": "d24_sm3qPm_T",
        "colab_type": "text"
      },
      "source": [
        "**IMPORTING CSV DATA INTO NUMPY**"
      ]
    },
    {
      "cell_type": "code",
      "metadata": {
        "id": "pIgK0ar1NzLi",
        "colab_type": "code",
        "colab": {
          "base_uri": "https://localhost:8080/",
          "height": 255
        },
        "outputId": "62b9e9a5-d3a5-4625-921b-e33ec9f5de4b"
      },
      "source": [
        "import pandas as pd\n",
        "data = pd.read_csv(\"https://raw.githubusercontent.com/devilsboy/DL-Lab-1/master/california_housing_train.csv\")\n",
        "lat = data[\"latitude\"]\n",
        "print(data)"
      ],
      "execution_count": 55,
      "outputs": [
        {
          "output_type": "stream",
          "text": [
            "       longitude  latitude  ...  median_income  median_house_value\n",
            "0        -114.31     34.19  ...         1.4936             66900.0\n",
            "1        -114.47     34.40  ...         1.8200             80100.0\n",
            "2        -114.56     33.69  ...         1.6509             85700.0\n",
            "3        -114.57     33.64  ...         3.1917             73400.0\n",
            "4        -114.57     33.57  ...         1.9250             65500.0\n",
            "...          ...       ...  ...            ...                 ...\n",
            "16995    -124.26     40.58  ...         2.3571            111400.0\n",
            "16996    -124.27     40.69  ...         2.5179             79000.0\n",
            "16997    -124.30     41.84  ...         3.0313            103600.0\n",
            "16998    -124.30     41.80  ...         1.9797             85800.0\n",
            "16999    -124.35     40.54  ...         3.0147             94600.0\n",
            "\n",
            "[17000 rows x 9 columns]\n"
          ],
          "name": "stdout"
        }
      ]
    },
    {
      "cell_type": "markdown",
      "metadata": {
        "id": "DqOS-AHAQw3m",
        "colab_type": "text"
      },
      "source": [
        "**CREATING A MATRIX ON LATITUDE DATA**"
      ]
    },
    {
      "cell_type": "code",
      "metadata": {
        "id": "78nSIWcmQgJN",
        "colab_type": "code",
        "colab": {
          "base_uri": "https://localhost:8080/",
          "height": 34
        },
        "outputId": "326d927d-40fb-4a1e-f3e0-d0d3b0f613dd"
      },
      "source": [
        "np.matrix(lat)"
      ],
      "execution_count": 56,
      "outputs": [
        {
          "output_type": "execute_result",
          "data": {
            "text/plain": [
              "matrix([[34.19, 34.4 , 33.69, ..., 41.84, 41.8 , 40.54]])"
            ]
          },
          "metadata": {
            "tags": []
          },
          "execution_count": 56
        }
      ]
    },
    {
      "cell_type": "markdown",
      "metadata": {
        "id": "1CscE_RWRTFz",
        "colab_type": "text"
      },
      "source": [
        "**CREATING A ARRAY ON LATITUDE DATA**"
      ]
    },
    {
      "cell_type": "code",
      "metadata": {
        "id": "rIv2Fwt_QvZG",
        "colab_type": "code",
        "colab": {
          "base_uri": "https://localhost:8080/",
          "height": 34
        },
        "outputId": "4a006578-85d5-46e3-bce4-3b58b6c96339"
      },
      "source": [
        "np.array(lat)"
      ],
      "execution_count": 57,
      "outputs": [
        {
          "output_type": "execute_result",
          "data": {
            "text/plain": [
              "array([34.19, 34.4 , 33.69, ..., 41.84, 41.8 , 40.54])"
            ]
          },
          "metadata": {
            "tags": []
          },
          "execution_count": 57
        }
      ]
    },
    {
      "cell_type": "code",
      "metadata": {
        "id": "RPdovHewRatm",
        "colab_type": "code",
        "colab": {}
      },
      "source": [
        ""
      ],
      "execution_count": null,
      "outputs": []
    }
  ]
}