{
 "cells": [
  {
   "cell_type": "code",
   "execution_count": 12,
   "metadata": {
    "colab": {},
    "colab_type": "code",
    "id": "a_l6S8ONAF_N"
   },
   "outputs": [],
   "source": [
    "import numpy as np\n",
    "a=np.array([[1,2,3,4],[5,6,7,8],[9,10,11,12],[13,14,15,16]])\n",
    "b=np.array([[21,22,23,24],[25,26,27,28],[29,30,31,32],[33,34,35,36]])"
   ]
  },
  {
   "cell_type": "markdown",
   "metadata": {
    "colab_type": "text",
    "id": "rVbHHYOYFSj-"
   },
   "source": [
    "**DIMENSIONS**"
   ]
  },
  {
   "cell_type": "code",
   "execution_count": 13,
   "metadata": {
    "colab": {
     "base_uri": "https://localhost:8080/",
     "height": 136
    },
    "colab_type": "code",
    "id": "pTq0T-kgB8hQ",
    "outputId": "53781cac-48cc-4f7a-95d6-08d412dec34d"
   },
   "outputs": [
    {
     "name": "stdout",
     "output_type": "stream",
     "text": [
      "Dimensions of A:  2\n",
      "Size of A:  16\n",
      "Shape of A:  (4, 4)\n"
     ]
    },
    {
     "data": {
      "text/plain": [
       "array([[ 1,  2,  3,  4],\n",
       "       [ 5,  6,  7,  8],\n",
       "       [ 9, 10, 11, 12],\n",
       "       [13, 14, 15, 16]])"
      ]
     },
     "execution_count": 13,
     "metadata": {},
     "output_type": "execute_result"
    }
   ],
   "source": [
    "print(\"Dimensions of A: \",a.ndim)\n",
    "print(\"Size of A: \",a.size)\n",
    "print(\"Shape of A: \",a.shape)\n",
    "a"
   ]
  },
  {
   "cell_type": "markdown",
   "metadata": {
    "colab_type": "text",
    "id": "a4a6AnmMFLev"
   },
   "source": [
    "**ADDITION**"
   ]
  },
  {
   "cell_type": "code",
   "execution_count": 14,
   "metadata": {
    "colab": {
     "base_uri": "https://localhost:8080/",
     "height": 102
    },
    "colab_type": "code",
    "id": "lUEKVJ_LCwU6",
    "outputId": "e64bd715-c2fe-4e27-edc2-f28c8d06e135"
   },
   "outputs": [
    {
     "name": "stdout",
     "output_type": "stream",
     "text": [
      "Addition of A & B \n",
      "[[22 24 26 28]\n",
      " [30 32 34 36]\n",
      " [38 40 42 44]\n",
      " [46 48 50 52]]\n"
     ]
    }
   ],
   "source": [
    "print(\"Addition of A & B \")\n",
    "print(a+b)"
   ]
  },
  {
   "cell_type": "markdown",
   "metadata": {
    "colab_type": "text",
    "id": "KRzRhal6Fh7L"
   },
   "source": [
    "**TRANSPOSE**"
   ]
  },
  {
   "cell_type": "code",
   "execution_count": 15,
   "metadata": {
    "colab": {
     "base_uri": "https://localhost:8080/",
     "height": 187
    },
    "colab_type": "code",
    "id": "HDIAeWG8E4Tl",
    "outputId": "ef45e114-5321-4afc-ca59-0240ea443cbc"
   },
   "outputs": [
    {
     "name": "stdout",
     "output_type": "stream",
     "text": [
      "Transpose of A: \n",
      " [[ 1  5  9 13]\n",
      " [ 2  6 10 14]\n",
      " [ 3  7 11 15]\n",
      " [ 4  8 12 16]]\n",
      "Transpose of B: \n",
      " [[21 25 29 33]\n",
      " [22 26 30 34]\n",
      " [23 27 31 35]\n",
      " [24 28 32 36]]\n"
     ]
    }
   ],
   "source": [
    "print(\"Transpose of A: \\n\",np.transpose(a))\n",
    "print(\"Transpose of B: \\n\",np.transpose(b))"
   ]
  },
  {
   "cell_type": "markdown",
   "metadata": {
    "colab_type": "text",
    "id": "QkzTI6LkKng1"
   },
   "source": [
    "**DOT PRODUCT**"
   ]
  },
  {
   "cell_type": "code",
   "execution_count": 16,
   "metadata": {
    "colab": {
     "base_uri": "https://localhost:8080/",
     "height": 85
    },
    "colab_type": "code",
    "id": "8obIU7QPGCrj",
    "outputId": "b91d896b-3712-4a42-c08d-633685af9968"
   },
   "outputs": [
    {
     "name": "stdout",
     "output_type": "stream",
     "text": [
      "[[ 290  300  310  320]\n",
      " [ 722  748  774  800]\n",
      " [1154 1196 1238 1280]\n",
      " [1586 1644 1702 1760]]\n"
     ]
    }
   ],
   "source": [
    "print(a.dot(b))"
   ]
  },
  {
   "cell_type": "markdown",
   "metadata": {
    "colab_type": "text",
    "id": "Ys42DTNkK4Ro"
   },
   "source": [
    "**ELEMENT WISE MULTIPLICATION**"
   ]
  },
  {
   "cell_type": "code",
   "execution_count": 17,
   "metadata": {
    "colab": {
     "base_uri": "https://localhost:8080/",
     "height": 85
    },
    "colab_type": "code",
    "id": "NsoADFFqJ_CD",
    "outputId": "267adb81-e9cc-4c03-98e9-3ca87eabb65f"
   },
   "outputs": [
    {
     "name": "stdout",
     "output_type": "stream",
     "text": [
      "[[ 21  44  69  96]\n",
      " [125 156 189 224]\n",
      " [261 300 341 384]\n",
      " [429 476 525 576]]\n"
     ]
    }
   ],
   "source": [
    "print(a*b)"
   ]
  },
  {
   "cell_type": "markdown",
   "metadata": {
    "colab_type": "text",
    "id": "4QGVh_H4LY8F"
   },
   "source": [
    "**ACCESING ELEMENTS**"
   ]
  },
  {
   "cell_type": "code",
   "execution_count": 18,
   "metadata": {
    "colab": {
     "base_uri": "https://localhost:8080/",
     "height": 68
    },
    "colab_type": "code",
    "id": "DgmAQq7OLDgD",
    "outputId": "ca6456cc-7a0e-4631-e9f3-3c7ec3400e71"
   },
   "outputs": [
    {
     "name": "stdout",
     "output_type": "stream",
     "text": [
      "Element 15\n",
      "Row [ 9 10 11 12]\n",
      "Column [ 3  7 11 15]\n"
     ]
    }
   ],
   "source": [
    "print(\"Element\",a[3][2])\n",
    "print(\"Row\",a[2])\n",
    "print(\"Column\",a[:,2])  "
   ]
  },
  {
   "cell_type": "markdown",
   "metadata": {
    "colab_type": "text",
    "id": "G9xxKlU3NcYI"
   },
   "source": [
    "**SLICE & REVERSE**"
   ]
  },
  {
   "cell_type": "code",
   "execution_count": 19,
   "metadata": {
    "colab": {
     "base_uri": "https://localhost:8080/",
     "height": 153
    },
    "colab_type": "code",
    "id": "I04UnESiLV7a",
    "outputId": "9c8ec1aa-0dcf-4ef9-ba88-00cddb23e7c5"
   },
   "outputs": [
    {
     "name": "stdout",
     "output_type": "stream",
     "text": [
      "Slice: \n",
      " [[ 1  2  3  4]\n",
      " [ 9 10 11 12]]\n",
      "Reverse: \n",
      " [[13 14 15 16]\n",
      " [ 9 10 11 12]\n",
      " [ 5  6  7  8]\n",
      " [ 1  2  3  4]]\n"
     ]
    }
   ],
   "source": [
    "print(\"Slice: \\n\",a[slice(0,3,2)])\n",
    "print(\"Reverse: \\n\",np.flipud(a))"
   ]
  },
  {
   "cell_type": "markdown",
   "metadata": {
    "colab_type": "text",
    "id": "d24_sm3qPm_T"
   },
   "source": [
    "**IMPORTING CSV DATA INTO NUMPY**"
   ]
  },
  {
   "cell_type": "code",
   "execution_count": 20,
   "metadata": {
    "colab": {
     "base_uri": "https://localhost:8080/",
     "height": 255
    },
    "colab_type": "code",
    "id": "pIgK0ar1NzLi",
    "outputId": "62b9e9a5-d3a5-4625-921b-e33ec9f5de4b"
   },
   "outputs": [
    {
     "name": "stdout",
     "output_type": "stream",
     "text": [
      "       longitude  latitude  housing_median_age  total_rooms  total_bedrooms  \\\n",
      "0        -114.31     34.19                15.0       5612.0          1283.0   \n",
      "1        -114.47     34.40                19.0       7650.0          1901.0   \n",
      "2        -114.56     33.69                17.0        720.0           174.0   \n",
      "3        -114.57     33.64                14.0       1501.0           337.0   \n",
      "4        -114.57     33.57                20.0       1454.0           326.0   \n",
      "...          ...       ...                 ...          ...             ...   \n",
      "16995    -124.26     40.58                52.0       2217.0           394.0   \n",
      "16996    -124.27     40.69                36.0       2349.0           528.0   \n",
      "16997    -124.30     41.84                17.0       2677.0           531.0   \n",
      "16998    -124.30     41.80                19.0       2672.0           552.0   \n",
      "16999    -124.35     40.54                52.0       1820.0           300.0   \n",
      "\n",
      "       population  households  median_income  median_house_value  \n",
      "0          1015.0       472.0         1.4936             66900.0  \n",
      "1          1129.0       463.0         1.8200             80100.0  \n",
      "2           333.0       117.0         1.6509             85700.0  \n",
      "3           515.0       226.0         3.1917             73400.0  \n",
      "4           624.0       262.0         1.9250             65500.0  \n",
      "...           ...         ...            ...                 ...  \n",
      "16995       907.0       369.0         2.3571            111400.0  \n",
      "16996      1194.0       465.0         2.5179             79000.0  \n",
      "16997      1244.0       456.0         3.0313            103600.0  \n",
      "16998      1298.0       478.0         1.9797             85800.0  \n",
      "16999       806.0       270.0         3.0147             94600.0  \n",
      "\n",
      "[17000 rows x 9 columns]\n"
     ]
    }
   ],
   "source": [
    "import pandas as pd\n",
    "data = pd.read_csv(\"https://raw.githubusercontent.com/devilsboy/DL-Lab-1/master/california_housing_train.csv\")\n",
    "lat = data[\"latitude\"]\n",
    "print(data)"
   ]
  },
  {
   "cell_type": "markdown",
   "metadata": {
    "colab_type": "text",
    "id": "DqOS-AHAQw3m"
   },
   "source": [
    "**CREATING A MATRIX ON LATITUDE DATA**"
   ]
  },
  {
   "cell_type": "code",
   "execution_count": 21,
   "metadata": {
    "colab": {
     "base_uri": "https://localhost:8080/",
     "height": 34
    },
    "colab_type": "code",
    "id": "78nSIWcmQgJN",
    "outputId": "326d927d-40fb-4a1e-f3e0-d0d3b0f613dd"
   },
   "outputs": [
    {
     "data": {
      "text/plain": [
       "matrix([[34.19, 34.4 , 33.69, ..., 41.84, 41.8 , 40.54]])"
      ]
     },
     "execution_count": 21,
     "metadata": {},
     "output_type": "execute_result"
    }
   ],
   "source": [
    "np.matrix(lat)"
   ]
  },
  {
   "cell_type": "markdown",
   "metadata": {
    "colab_type": "text",
    "id": "1CscE_RWRTFz"
   },
   "source": [
    "**CREATING A ARRAY ON LATITUDE DATA**"
   ]
  },
  {
   "cell_type": "code",
   "execution_count": 22,
   "metadata": {
    "colab": {
     "base_uri": "https://localhost:8080/",
     "height": 34
    },
    "colab_type": "code",
    "id": "rIv2Fwt_QvZG",
    "outputId": "4a006578-85d5-46e3-bce4-3b58b6c96339"
   },
   "outputs": [
    {
     "data": {
      "text/plain": [
       "array([34.19, 34.4 , 33.69, ..., 41.84, 41.8 , 40.54])"
      ]
     },
     "execution_count": 22,
     "metadata": {},
     "output_type": "execute_result"
    }
   ],
   "source": [
    "np.array(lat)"
   ]
  }
 ],
 "metadata": {
  "colab": {
   "collapsed_sections": [],
   "name": "DL-Lab-1",
   "provenance": []
  },
  "kernelspec": {
   "display_name": "Python 3",
   "language": "python",
   "name": "python3"
  },
  "language_info": {
   "codemirror_mode": {
    "name": "ipython",
    "version": 3
   },
   "file_extension": ".py",
   "mimetype": "text/x-python",
   "name": "python",
   "nbconvert_exporter": "python",
   "pygments_lexer": "ipython3",
   "version": "3.8.2"
  }
 },
 "nbformat": 4,
 "nbformat_minor": 1
}
